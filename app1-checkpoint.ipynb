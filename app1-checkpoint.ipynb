{
 "cells": [
  {
   "cell_type": "code",
   "execution_count": null,
   "id": "26a75750",
   "metadata": {},
   "outputs": [],
   "source": [
    "import numpy as np\n",
    "from flask import Flask,render_template,request\n",
    "import pickle\n",
    "\n",
    "\n",
    "app = Flask(__name__)\n",
    "model = pickle.load(open('wqi.pkl','rb'))\n",
    "\n",
    "@app.route('/')\n",
    "def home() :\n",
    "    return render_template(\"web.html\")\n",
    "\n",
    "@app.route('/login',methods = ['POST'])\n",
    "def login() :\n",
    "    year = request.form[\"year\"]\n",
    "    do = request.form[\"do\"]\n",
    "    ph = request.form[\"ph\"]\n",
    "    co = request.form[\"co\"]\n",
    "    bod = request.form[\"bod\"]\n",
    "    na = request.form[\"na\"]\n",
    "    tc = request.form[\"tc\"]\n",
    "    total = [[int(year),float(do),float(ph),float(co),float(bod),float(na),float(tc)]]\n",
    "    y_pred = model.predict(total)\n",
    "    print(y_pred)\n",
    "    y_pred =y_pred[[0]]\n",
    "    if(y_pred >= 95 and y_pred <= 100) :\n",
    "        return render_template(\"web.html\",showcase = 'Excellent,The predicted value is '+ str(y_pred))\n",
    "    elif(y_pred >= 89 and y_pred <= 94) :\n",
    "        return render_template(\"web.html\",showcase = 'Very good,The predicted value is '+str(y_pred))\n",
    "    elif(y_pred >= 80 and y_pred <= 88) :\n",
    "        return render_template(\"web.html\",showcase = 'Good,The predicted value is'+str(y_pred))\n",
    "    elif(y_pred >= 65 and y_pred <= 79) :\n",
    "        return render_template(\"web.html\",showcase = 'Fair,The predicted value is '+str(y_pred))\n",
    "    elif(y_pred >= 45 and y_pred <= 64) :\n",
    "        return render_template(\"web.html\",showcase = 'Marginal,The predicted value is '+str(y_pred))\n",
    "    else :\n",
    "        return render_template(\"web.html\",showcase = 'Poor,The predicted value is '+str(y_pred))\n",
    "    \n",
    "    \n",
    "if __name__ == '__main__' :\n",
    "    app.run(port=5600)\n"
   ]
  },
  {
   "cell_type": "code",
   "execution_count": null,
   "id": "acd24d47",
   "metadata": {},
   "outputs": [],
   "source": []
  },
  {
   "cell_type": "code",
   "execution_count": null,
   "id": "7355e3e5",
   "metadata": {},
   "outputs": [],
   "source": []
  }
 ],
 "metadata": {
  "kernelspec": {
   "display_name": "Python 3",
   "language": "python",
   "name": "python3"
  },
  "language_info": {
   "codemirror_mode": {
    "name": "ipython",
    "version": 3
   },
   "file_extension": ".py",
   "mimetype": "text/x-python",
   "name": "python",
   "nbconvert_exporter": "python",
   "pygments_lexer": "ipython3",
   "version": "3.8.8"
  }
 },
 "nbformat": 4,
 "nbformat_minor": 5
}
